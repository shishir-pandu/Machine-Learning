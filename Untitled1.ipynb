{
 "cells": [
  {
   "cell_type": "code",
   "execution_count": null,
   "id": "c4d982b8",
   "metadata": {},
   "outputs": [],
   "source": [
    "list=[1,2,3,5,6,9]\n",
    "a=min(list)\n",
    "print(a)"
   ]
  },
  {
   "cell_type": "code",
   "execution_count": null,
   "id": "c39b18a0",
   "metadata": {},
   "outputs": [],
   "source": [
    "print(a)"
   ]
  },
  {
   "cell_type": "code",
   "execution_count": null,
   "id": "c61e96c0",
   "metadata": {},
   "outputs": [],
   "source": [
    "list.append(-2,0)\n"
   ]
  },
  {
   "cell_type": "code",
   "execution_count": null,
   "id": "e380e857",
   "metadata": {},
   "outputs": [],
   "source": [
    "list.append(-2)"
   ]
  },
  {
   "cell_type": "code",
   "execution_count": null,
   "id": "26f4991e",
   "metadata": {},
   "outputs": [],
   "source": [
    "print(min(list))"
   ]
  },
  {
   "cell_type": "code",
   "execution_count": null,
   "id": "15a462cf",
   "metadata": {},
   "outputs": [],
   "source": [
    "a=input()\n",
    "list=[]\n",
    "list.append(a)\n",
    "print(list)"
   ]
  },
  {
   "cell_type": "code",
   "execution_count": null,
   "id": "8e03dbeb",
   "metadata": {},
   "outputs": [],
   "source": [
    "print (\"The list is\" , list)\n",
    "minimum=min[list]\n",
    "print(\"minimum elememt in list is :\",minimum)"
   ]
  },
  {
   "cell_type": "code",
   "execution_count": null,
   "id": "e04f6237",
   "metadata": {},
   "outputs": [],
   "source": [
    "a=input(\"enter the list you want\")\n"
   ]
  },
  {
   "cell_type": "code",
   "execution_count": null,
   "id": "ea961c4e",
   "metadata": {},
   "outputs": [],
   "source": [
    "def input(input_list):\n",
    "    a=[]\n",
    "    a.append(input_list)\n",
    "    print(a)\n",
    "in=input(\"enter the elements\")\n",
    "input(input)\n"
   ]
  },
  {
   "cell_type": "code",
   "execution_count": null,
   "id": "d4395806",
   "metadata": {},
   "outputs": [],
   "source": []
  },
  {
   "cell_type": "code",
   "execution_count": null,
   "id": "d061e1c4",
   "metadata": {},
   "outputs": [],
   "source": []
  },
  {
   "cell_type": "code",
   "execution_count": null,
   "id": "9b59f79e",
   "metadata": {},
   "outputs": [],
   "source": [
    "def alist(self,input):\n",
    "    self.input=input\n",
    "    a=[]\n",
    "    a.append(self.input)\n",
    "    print(a)\n",
    "input=input(\"enter the number\")\n",
    "alist(1,2,2)"
   ]
  },
  {
   "cell_type": "code",
   "execution_count": null,
   "id": "b732e9cd",
   "metadata": {},
   "outputs": [],
   "source": []
  },
  {
   "cell_type": "code",
   "execution_count": null,
   "id": "7453aba5",
   "metadata": {},
   "outputs": [],
   "source": []
  },
  {
   "cell_type": "code",
   "execution_count": null,
   "id": "98493dc0",
   "metadata": {},
   "outputs": [],
   "source": [
    "clear\n"
   ]
  },
  {
   "cell_type": "code",
   "execution_count": null,
   "id": "b8e849aa",
   "metadata": {},
   "outputs": [],
   "source": []
  },
  {
   "cell_type": "code",
   "execution_count": null,
   "id": "0334d52a",
   "metadata": {},
   "outputs": [],
   "source": [
    "exit()"
   ]
  },
  {
   "cell_type": "code",
   "execution_count": null,
   "id": "88a00efd",
   "metadata": {},
   "outputs": [],
   "source": []
  },
  {
   "cell_type": "code",
   "execution_count": null,
   "id": "6d5bc65b",
   "metadata": {},
   "outputs": [],
   "source": [
    "def __init__(self):\n",
    "    self.number=input(\"enter the number\")\n",
    "    print(\"the number is \", self.number)\n",
    "def inside(self,minimum):\n",
    "    a=[]\n",
    "    a.append(self.number)\n",
    "    print(a)\n",
    "    mini=min(a)\n",
    "    print(\"minimum is \",mini)\n",
    "if __init__==\"__main__\":\n",
    "    inside()"
   ]
  },
  {
   "cell_type": "code",
   "execution_count": null,
   "id": "e6444f69",
   "metadata": {},
   "outputs": [],
   "source": [
    "number =int(input(\"enter the numbers: \"))\n",
    "for i in range(0,number):\n",
    "    a=[]\n",
    "    b=int(number)\n",
    "    \n",
    "    \n",
    "print(a)\n",
    "print(b)"
   ]
  },
  {
   "cell_type": "code",
   "execution_count": null,
   "id": "0cb8afe2",
   "metadata": {},
   "outputs": [],
   "source": []
  },
  {
   "cell_type": "code",
   "execution_count": 2,
   "id": "eb5754ba",
   "metadata": {},
   "outputs": [
    {
     "name": "stdout",
     "output_type": "stream",
     "text": [
      "2\n"
     ]
    }
   ],
   "source": [
    "minimum=min(number2)\n",
    "print(minimum)"
   ]
  },
  {
   "cell_type": "code",
   "execution_count": 7,
   "id": "45021919",
   "metadata": {},
   "outputs": [
    {
     "name": "stdout",
     "output_type": "stream",
     "text": [
      "Enter the numbers: 2 3 4\n",
      "['2', '3', '4']\n",
      "None\n",
      "<class 'list'>\n",
      "None\n"
     ]
    }
   ],
   "source": [
    "number=input(\"Enter the numbers: \")\n",
    "number2=number.split()\n",
    "print(number2)\n",
    "rev=number2.reverse()\n",
    "print(rev)\n",
    "print(type(number2))\n",
    "print(number2.reverse())"
   ]
  },
  {
   "cell_type": "code",
   "execution_count": 4,
   "id": "b11afecc",
   "metadata": {},
   "outputs": [
    {
     "name": "stdout",
     "output_type": "stream",
     "text": [
      "None\n"
     ]
    }
   ],
   "source": [
    "rev=number2.reverse()\n",
    "print(rev)"
   ]
  },
  {
   "cell_type": "code",
   "execution_count": null,
   "id": "0c47f87a",
   "metadata": {},
   "outputs": [],
   "source": []
  }
 ],
 "metadata": {
  "kernelspec": {
   "display_name": "Python 3 (ipykernel)",
   "language": "python",
   "name": "python3"
  },
  "language_info": {
   "codemirror_mode": {
    "name": "ipython",
    "version": 3
   },
   "file_extension": ".py",
   "mimetype": "text/x-python",
   "name": "python",
   "nbconvert_exporter": "python",
   "pygments_lexer": "ipython3",
   "version": "3.10.8"
  }
 },
 "nbformat": 4,
 "nbformat_minor": 5
}
