{
 "cells": [
  {
   "cell_type": "code",
   "execution_count": 1,
   "id": "bdd7961c",
   "metadata": {},
   "outputs": [
    {
     "data": {
      "text/plain": [
       "0        2\n",
       "1        2\n",
       "2        3\n",
       "3        3\n",
       "4        4\n",
       "        ..\n",
       "13575    4\n",
       "13576    3\n",
       "13577    3\n",
       "13578    4\n",
       "13579    4\n",
       "Name: Rooms, Length: 13580, dtype: int64"
      ]
     },
     "execution_count": 1,
     "metadata": {},
     "output_type": "execute_result"
    }
   ],
   "source": [
    "import pandas as pd\n",
    "from sklearn.model_selection import train_test_split\n",
    "path=\"melb_data.csv\"\n",
    "data=pd.read_csv(path)\n",
    "y=data.Price\n",
    "X=data.drop(['Price'],axis=1)\n",
    "data['Rooms']"
   ]
  },
  {
   "cell_type": "code",
   "execution_count": 2,
   "id": "55cd2da8",
   "metadata": {},
   "outputs": [],
   "source": [
    "X_train,X_valid,y_train,y_valid=train_test_split(X,y,train_size=0.7, test_size=0.3)"
   ]
  },
  {
   "cell_type": "code",
   "execution_count": 3,
   "id": "41bb5972",
   "metadata": {},
   "outputs": [],
   "source": [
    "num_cols=[col for col in X_train\n",
    "         if X_train[col].dtype in ['int64','float']]\n",
    "cat_cols=[col for col in X_train\n",
    "         if X_train[col].dtype=='object']\n",
    "my_cols=num_cols + cat_cols\n",
    "X_train=X_train[my_cols].copy()\n",
    "X_valid=X_valid[my_cols].copy()"
   ]
  },
  {
   "cell_type": "code",
   "execution_count": 4,
   "id": "766b419c",
   "metadata": {},
   "outputs": [],
   "source": [
    "from sklearn.impute import SimpleImputer\n",
    "from sklearn.pipeline import Pipeline\n",
    "from sklearn.preprocessing import OneHotEncoder\n",
    "from sklearn.compose import ColumnTransformer\n",
    "num_trans=SimpleImputer(strategy='constant')\n",
    "cat_trans=Pipeline(steps=[\n",
    "    ('impute',SimpleImputer(strategy='most_frequent')),\n",
    "    ('OneHot',OneHotEncoder(handle_unknown='ignore'))\n",
    "])\n",
    "preprocessor=ColumnTransformer(transformers=[\n",
    "    ('num',num_trans,num_cols),\n",
    "    ('cat',cat_trans,cat_cols)\n",
    "])"
   ]
  },
  {
   "cell_type": "code",
   "execution_count": 5,
   "id": "de2f95ce",
   "metadata": {
    "scrolled": false
   },
   "outputs": [],
   "source": [
    "from sklearn.ensemble import RandomForestRegressor\n",
    "model=RandomForestRegressor(random_state=0)\n",
    "my_pipeline=Pipeline(steps=[\n",
    "    ('preprocessor',preprocessor),\n",
    "    ('model',model)\n",
    "])\n"
   ]
  },
  {
   "cell_type": "code",
   "execution_count": 6,
   "id": "e4c01104",
   "metadata": {},
   "outputs": [],
   "source": [
    "\n",
    "from sklearn.model_selection import cross_val_score"
   ]
  },
  {
   "cell_type": "code",
   "execution_count": null,
   "id": "cdb82a2b",
   "metadata": {
    "scrolled": false
   },
   "outputs": [],
   "source": [
    "scores=-1*cross_val_score(my_pipeline,X,y,cv=3,scoring='neg_mean_absolute_error')"
   ]
  },
  {
   "cell_type": "code",
   "execution_count": null,
   "id": "fc281e10",
   "metadata": {},
   "outputs": [],
   "source": [
    "scores"
   ]
  },
  {
   "cell_type": "markdown",
   "id": "600ec054",
   "metadata": {},
   "source": [
    "## this is the use of XGBOOST "
   ]
  },
  {
   "cell_type": "code",
   "execution_count": null,
   "id": "508618c4",
   "metadata": {},
   "outputs": [],
   "source": [
    "from xgbooster import XGBRegressor\n",
    "model=XGBRegresor(n_estimators=800)\n"
   ]
  },
  {
   "cell_type": "code",
   "execution_count": null,
   "id": "cf673a99",
   "metadata": {},
   "outputs": [],
   "source": []
  }
 ],
 "metadata": {
  "kernelspec": {
   "display_name": "Python 3 (ipykernel)",
   "language": "python",
   "name": "python3"
  },
  "language_info": {
   "codemirror_mode": {
    "name": "ipython",
    "version": 3
   },
   "file_extension": ".py",
   "mimetype": "text/x-python",
   "name": "python",
   "nbconvert_exporter": "python",
   "pygments_lexer": "ipython3",
   "version": "3.9.13"
  }
 },
 "nbformat": 4,
 "nbformat_minor": 5
}
