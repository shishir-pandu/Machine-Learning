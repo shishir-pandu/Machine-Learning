{
 "cells": [
  {
   "cell_type": "code",
   "execution_count": 7,
   "id": "860655ff",
   "metadata": {},
   "outputs": [],
   "source": [
    "import pandas as pd\n",
    "path=\"melb_data.csv\""
   ]
  },
  {
   "cell_type": "markdown",
   "id": "4b9b45b2",
   "metadata": {},
   "source": [
    "# Reading CSV file"
   ]
  },
  {
   "cell_type": "code",
   "execution_count": 9,
   "id": "ff907a0b",
   "metadata": {},
   "outputs": [],
   "source": [
    "data=pd.read_csv(path)"
   ]
  },
  {
   "cell_type": "code",
   "execution_count": 10,
   "id": "793e1164",
   "metadata": {},
   "outputs": [
    {
     "data": {
      "text/html": [
       "<div>\n",
       "<style scoped>\n",
       "    .dataframe tbody tr th:only-of-type {\n",
       "        vertical-align: middle;\n",
       "    }\n",
       "\n",
       "    .dataframe tbody tr th {\n",
       "        vertical-align: top;\n",
       "    }\n",
       "\n",
       "    .dataframe thead th {\n",
       "        text-align: right;\n",
       "    }\n",
       "</style>\n",
       "<table border=\"1\" class=\"dataframe\">\n",
       "  <thead>\n",
       "    <tr style=\"text-align: right;\">\n",
       "      <th></th>\n",
       "      <th>Suburb</th>\n",
       "      <th>Address</th>\n",
       "      <th>Rooms</th>\n",
       "      <th>Type</th>\n",
       "      <th>Price</th>\n",
       "      <th>Method</th>\n",
       "      <th>SellerG</th>\n",
       "      <th>Date</th>\n",
       "      <th>Distance</th>\n",
       "      <th>Postcode</th>\n",
       "      <th>...</th>\n",
       "      <th>Bathroom</th>\n",
       "      <th>Car</th>\n",
       "      <th>Landsize</th>\n",
       "      <th>BuildingArea</th>\n",
       "      <th>YearBuilt</th>\n",
       "      <th>CouncilArea</th>\n",
       "      <th>Lattitude</th>\n",
       "      <th>Longtitude</th>\n",
       "      <th>Regionname</th>\n",
       "      <th>Propertycount</th>\n",
       "    </tr>\n",
       "  </thead>\n",
       "  <tbody>\n",
       "    <tr>\n",
       "      <th>0</th>\n",
       "      <td>Abbotsford</td>\n",
       "      <td>85 Turner St</td>\n",
       "      <td>2</td>\n",
       "      <td>h</td>\n",
       "      <td>1480000.0</td>\n",
       "      <td>S</td>\n",
       "      <td>Biggin</td>\n",
       "      <td>3/12/2016</td>\n",
       "      <td>2.5</td>\n",
       "      <td>3067.0</td>\n",
       "      <td>...</td>\n",
       "      <td>1.0</td>\n",
       "      <td>1.0</td>\n",
       "      <td>202.0</td>\n",
       "      <td>NaN</td>\n",
       "      <td>NaN</td>\n",
       "      <td>Yarra</td>\n",
       "      <td>-37.7996</td>\n",
       "      <td>144.9984</td>\n",
       "      <td>Northern Metropolitan</td>\n",
       "      <td>4019.0</td>\n",
       "    </tr>\n",
       "    <tr>\n",
       "      <th>1</th>\n",
       "      <td>Abbotsford</td>\n",
       "      <td>25 Bloomburg St</td>\n",
       "      <td>2</td>\n",
       "      <td>h</td>\n",
       "      <td>1035000.0</td>\n",
       "      <td>S</td>\n",
       "      <td>Biggin</td>\n",
       "      <td>4/02/2016</td>\n",
       "      <td>2.5</td>\n",
       "      <td>3067.0</td>\n",
       "      <td>...</td>\n",
       "      <td>1.0</td>\n",
       "      <td>0.0</td>\n",
       "      <td>156.0</td>\n",
       "      <td>79.0</td>\n",
       "      <td>1900.0</td>\n",
       "      <td>Yarra</td>\n",
       "      <td>-37.8079</td>\n",
       "      <td>144.9934</td>\n",
       "      <td>Northern Metropolitan</td>\n",
       "      <td>4019.0</td>\n",
       "    </tr>\n",
       "    <tr>\n",
       "      <th>2</th>\n",
       "      <td>Abbotsford</td>\n",
       "      <td>5 Charles St</td>\n",
       "      <td>3</td>\n",
       "      <td>h</td>\n",
       "      <td>1465000.0</td>\n",
       "      <td>SP</td>\n",
       "      <td>Biggin</td>\n",
       "      <td>4/03/2017</td>\n",
       "      <td>2.5</td>\n",
       "      <td>3067.0</td>\n",
       "      <td>...</td>\n",
       "      <td>2.0</td>\n",
       "      <td>0.0</td>\n",
       "      <td>134.0</td>\n",
       "      <td>150.0</td>\n",
       "      <td>1900.0</td>\n",
       "      <td>Yarra</td>\n",
       "      <td>-37.8093</td>\n",
       "      <td>144.9944</td>\n",
       "      <td>Northern Metropolitan</td>\n",
       "      <td>4019.0</td>\n",
       "    </tr>\n",
       "    <tr>\n",
       "      <th>3</th>\n",
       "      <td>Abbotsford</td>\n",
       "      <td>40 Federation La</td>\n",
       "      <td>3</td>\n",
       "      <td>h</td>\n",
       "      <td>850000.0</td>\n",
       "      <td>PI</td>\n",
       "      <td>Biggin</td>\n",
       "      <td>4/03/2017</td>\n",
       "      <td>2.5</td>\n",
       "      <td>3067.0</td>\n",
       "      <td>...</td>\n",
       "      <td>2.0</td>\n",
       "      <td>1.0</td>\n",
       "      <td>94.0</td>\n",
       "      <td>NaN</td>\n",
       "      <td>NaN</td>\n",
       "      <td>Yarra</td>\n",
       "      <td>-37.7969</td>\n",
       "      <td>144.9969</td>\n",
       "      <td>Northern Metropolitan</td>\n",
       "      <td>4019.0</td>\n",
       "    </tr>\n",
       "    <tr>\n",
       "      <th>4</th>\n",
       "      <td>Abbotsford</td>\n",
       "      <td>55a Park St</td>\n",
       "      <td>4</td>\n",
       "      <td>h</td>\n",
       "      <td>1600000.0</td>\n",
       "      <td>VB</td>\n",
       "      <td>Nelson</td>\n",
       "      <td>4/06/2016</td>\n",
       "      <td>2.5</td>\n",
       "      <td>3067.0</td>\n",
       "      <td>...</td>\n",
       "      <td>1.0</td>\n",
       "      <td>2.0</td>\n",
       "      <td>120.0</td>\n",
       "      <td>142.0</td>\n",
       "      <td>2014.0</td>\n",
       "      <td>Yarra</td>\n",
       "      <td>-37.8072</td>\n",
       "      <td>144.9941</td>\n",
       "      <td>Northern Metropolitan</td>\n",
       "      <td>4019.0</td>\n",
       "    </tr>\n",
       "  </tbody>\n",
       "</table>\n",
       "<p>5 rows × 21 columns</p>\n",
       "</div>"
      ],
      "text/plain": [
       "       Suburb           Address  Rooms Type      Price Method SellerG  \\\n",
       "0  Abbotsford      85 Turner St      2    h  1480000.0      S  Biggin   \n",
       "1  Abbotsford   25 Bloomburg St      2    h  1035000.0      S  Biggin   \n",
       "2  Abbotsford      5 Charles St      3    h  1465000.0     SP  Biggin   \n",
       "3  Abbotsford  40 Federation La      3    h   850000.0     PI  Biggin   \n",
       "4  Abbotsford       55a Park St      4    h  1600000.0     VB  Nelson   \n",
       "\n",
       "        Date  Distance  Postcode  ...  Bathroom  Car  Landsize  BuildingArea  \\\n",
       "0  3/12/2016       2.5    3067.0  ...       1.0  1.0     202.0           NaN   \n",
       "1  4/02/2016       2.5    3067.0  ...       1.0  0.0     156.0          79.0   \n",
       "2  4/03/2017       2.5    3067.0  ...       2.0  0.0     134.0         150.0   \n",
       "3  4/03/2017       2.5    3067.0  ...       2.0  1.0      94.0           NaN   \n",
       "4  4/06/2016       2.5    3067.0  ...       1.0  2.0     120.0         142.0   \n",
       "\n",
       "   YearBuilt  CouncilArea Lattitude  Longtitude             Regionname  \\\n",
       "0        NaN        Yarra  -37.7996    144.9984  Northern Metropolitan   \n",
       "1     1900.0        Yarra  -37.8079    144.9934  Northern Metropolitan   \n",
       "2     1900.0        Yarra  -37.8093    144.9944  Northern Metropolitan   \n",
       "3        NaN        Yarra  -37.7969    144.9969  Northern Metropolitan   \n",
       "4     2014.0        Yarra  -37.8072    144.9941  Northern Metropolitan   \n",
       "\n",
       "  Propertycount  \n",
       "0        4019.0  \n",
       "1        4019.0  \n",
       "2        4019.0  \n",
       "3        4019.0  \n",
       "4        4019.0  \n",
       "\n",
       "[5 rows x 21 columns]"
      ]
     },
     "execution_count": 10,
     "metadata": {},
     "output_type": "execute_result"
    }
   ],
   "source": [
    "data.head()"
   ]
  },
  {
   "cell_type": "markdown",
   "id": "f872987c",
   "metadata": {},
   "source": [
    "## selecting the target"
   ]
  },
  {
   "cell_type": "code",
   "execution_count": 15,
   "id": "91883848",
   "metadata": {},
   "outputs": [
    {
     "data": {
      "text/plain": [
       "0    1480000.0\n",
       "1    1035000.0\n",
       "2    1465000.0\n",
       "3     850000.0\n",
       "4    1600000.0\n",
       "Name: Price, dtype: float64"
      ]
     },
     "execution_count": 15,
     "metadata": {},
     "output_type": "execute_result"
    }
   ],
   "source": [
    "y=data.Price\n",
    "y.head()"
   ]
  },
  {
   "cell_type": "markdown",
   "id": "fb96e0d8",
   "metadata": {},
   "source": [
    "### to make simple we excluded object types from data"
   ]
  },
  {
   "cell_type": "code",
   "execution_count": 23,
   "id": "49678143",
   "metadata": {},
   "outputs": [
    {
     "data": {
      "text/html": [
       "<div>\n",
       "<style scoped>\n",
       "    .dataframe tbody tr th:only-of-type {\n",
       "        vertical-align: middle;\n",
       "    }\n",
       "\n",
       "    .dataframe tbody tr th {\n",
       "        vertical-align: top;\n",
       "    }\n",
       "\n",
       "    .dataframe thead th {\n",
       "        text-align: right;\n",
       "    }\n",
       "</style>\n",
       "<table border=\"1\" class=\"dataframe\">\n",
       "  <thead>\n",
       "    <tr style=\"text-align: right;\">\n",
       "      <th></th>\n",
       "      <th>Rooms</th>\n",
       "      <th>Distance</th>\n",
       "      <th>Postcode</th>\n",
       "      <th>Bedroom2</th>\n",
       "      <th>Bathroom</th>\n",
       "      <th>Car</th>\n",
       "      <th>Landsize</th>\n",
       "      <th>BuildingArea</th>\n",
       "      <th>YearBuilt</th>\n",
       "      <th>Lattitude</th>\n",
       "      <th>Longtitude</th>\n",
       "      <th>Propertycount</th>\n",
       "    </tr>\n",
       "  </thead>\n",
       "  <tbody>\n",
       "    <tr>\n",
       "      <th>0</th>\n",
       "      <td>2</td>\n",
       "      <td>2.5</td>\n",
       "      <td>3067.0</td>\n",
       "      <td>2.0</td>\n",
       "      <td>1.0</td>\n",
       "      <td>1.0</td>\n",
       "      <td>202.0</td>\n",
       "      <td>NaN</td>\n",
       "      <td>NaN</td>\n",
       "      <td>-37.7996</td>\n",
       "      <td>144.9984</td>\n",
       "      <td>4019.0</td>\n",
       "    </tr>\n",
       "    <tr>\n",
       "      <th>1</th>\n",
       "      <td>2</td>\n",
       "      <td>2.5</td>\n",
       "      <td>3067.0</td>\n",
       "      <td>2.0</td>\n",
       "      <td>1.0</td>\n",
       "      <td>0.0</td>\n",
       "      <td>156.0</td>\n",
       "      <td>79.0</td>\n",
       "      <td>1900.0</td>\n",
       "      <td>-37.8079</td>\n",
       "      <td>144.9934</td>\n",
       "      <td>4019.0</td>\n",
       "    </tr>\n",
       "    <tr>\n",
       "      <th>2</th>\n",
       "      <td>3</td>\n",
       "      <td>2.5</td>\n",
       "      <td>3067.0</td>\n",
       "      <td>3.0</td>\n",
       "      <td>2.0</td>\n",
       "      <td>0.0</td>\n",
       "      <td>134.0</td>\n",
       "      <td>150.0</td>\n",
       "      <td>1900.0</td>\n",
       "      <td>-37.8093</td>\n",
       "      <td>144.9944</td>\n",
       "      <td>4019.0</td>\n",
       "    </tr>\n",
       "    <tr>\n",
       "      <th>3</th>\n",
       "      <td>3</td>\n",
       "      <td>2.5</td>\n",
       "      <td>3067.0</td>\n",
       "      <td>3.0</td>\n",
       "      <td>2.0</td>\n",
       "      <td>1.0</td>\n",
       "      <td>94.0</td>\n",
       "      <td>NaN</td>\n",
       "      <td>NaN</td>\n",
       "      <td>-37.7969</td>\n",
       "      <td>144.9969</td>\n",
       "      <td>4019.0</td>\n",
       "    </tr>\n",
       "    <tr>\n",
       "      <th>4</th>\n",
       "      <td>4</td>\n",
       "      <td>2.5</td>\n",
       "      <td>3067.0</td>\n",
       "      <td>3.0</td>\n",
       "      <td>1.0</td>\n",
       "      <td>2.0</td>\n",
       "      <td>120.0</td>\n",
       "      <td>142.0</td>\n",
       "      <td>2014.0</td>\n",
       "      <td>-37.8072</td>\n",
       "      <td>144.9941</td>\n",
       "      <td>4019.0</td>\n",
       "    </tr>\n",
       "  </tbody>\n",
       "</table>\n",
       "</div>"
      ],
      "text/plain": [
       "   Rooms  Distance  Postcode  Bedroom2  Bathroom  Car  Landsize  BuildingArea  \\\n",
       "0      2       2.5    3067.0       2.0       1.0  1.0     202.0           NaN   \n",
       "1      2       2.5    3067.0       2.0       1.0  0.0     156.0          79.0   \n",
       "2      3       2.5    3067.0       3.0       2.0  0.0     134.0         150.0   \n",
       "3      3       2.5    3067.0       3.0       2.0  1.0      94.0           NaN   \n",
       "4      4       2.5    3067.0       3.0       1.0  2.0     120.0         142.0   \n",
       "\n",
       "   YearBuilt  Lattitude  Longtitude  Propertycount  \n",
       "0        NaN   -37.7996    144.9984         4019.0  \n",
       "1     1900.0   -37.8079    144.9934         4019.0  \n",
       "2     1900.0   -37.8093    144.9944         4019.0  \n",
       "3        NaN   -37.7969    144.9969         4019.0  \n",
       "4     2014.0   -37.8072    144.9941         4019.0  "
      ]
     },
     "execution_count": 23,
     "metadata": {},
     "output_type": "execute_result"
    }
   ],
   "source": [
    "melb_predectors=data.drop(['Price'], axis=1)\n",
    "X=melb_predectors.select_dtypes(exclude=['object'])\n",
    "X.head()"
   ]
  },
  {
   "cell_type": "markdown",
   "id": "c80c9b00",
   "metadata": {},
   "source": [
    "### dividing the data in train and validate"
   ]
  },
  {
   "cell_type": "code",
   "execution_count": 64,
   "id": "3da571d2",
   "metadata": {},
   "outputs": [],
   "source": [
    "from sklearn.model_selection import train_test_split\n",
    "X_train, X_valid, y_train , y_valid=train_test_split(X,y,train_size=0.8, test_size=0.2)"
   ]
  },
  {
   "cell_type": "code",
   "execution_count": 36,
   "id": "0ba9c88f",
   "metadata": {},
   "outputs": [],
   "source": [
    "from sklearn.ensemble import RandomForestRegressor\n",
    "from sklearn.metrics import mean_absolute_error\n"
   ]
  },
  {
   "cell_type": "code",
   "execution_count": 66,
   "id": "39f3de9c",
   "metadata": {},
   "outputs": [],
   "source": [
    "def select_mae(X_train, X_valid, y_train, y_valid):\n",
    "    model=RandomForestRegressor()\n",
    "    model.fit(X_train,y_train)\n",
    "    preds=model.predict(X_valid)\n",
    "    return mean_absolute_error(y_valid,preds)"
   ]
  },
  {
   "cell_type": "markdown",
   "id": "628699b3",
   "metadata": {},
   "source": [
    "#### using droping column techniques"
   ]
  },
  {
   "cell_type": "code",
   "execution_count": 67,
   "id": "237c084f",
   "metadata": {},
   "outputs": [],
   "source": [
    "cols_missing_data=[\n",
    "    column for column in X_train.columns\n",
    "    if X_train[column].isnull().any()\n",
    "]"
   ]
  },
  {
   "cell_type": "markdown",
   "id": "1e810d40",
   "metadata": {},
   "source": [
    "#### dropping the missing datacolumns "
   ]
  },
  {
   "cell_type": "code",
   "execution_count": 68,
   "id": "9d7e9964",
   "metadata": {},
   "outputs": [],
   "source": [
    "new_X_train =X_train.drop(cols_missing_data, axis=1)\n",
    "new_X_valid =X_valid.drop(cols_missing_data, axis=1)"
   ]
  },
  {
   "cell_type": "code",
   "execution_count": 69,
   "id": "7a0e8fde",
   "metadata": {},
   "outputs": [
    {
     "name": "stdout",
     "output_type": "stream",
     "text": [
      "MAE from Dropping Table is: 181832.5209308624\n"
     ]
    }
   ],
   "source": [
    "print(\"MAE from Dropping Table is:\",select_mae(new_X_train, new_X_valid, y_train, y_valid))"
   ]
  },
  {
   "cell_type": "markdown",
   "id": "d0699147",
   "metadata": {},
   "source": [
    "## from approach 2 imputation"
   ]
  },
  {
   "cell_type": "code",
   "execution_count": 74,
   "id": "894932a5",
   "metadata": {},
   "outputs": [],
   "source": [
    "from sklearn.impute import SimpleImputer\n",
    "Imputer=SimpleImputer()"
   ]
  },
  {
   "cell_type": "code",
   "execution_count": 75,
   "id": "0b02c00b",
   "metadata": {},
   "outputs": [],
   "source": [
    "imputed_X_train=pd.DataFrame(Imputer.fit_transform(X_train))"
   ]
  },
  {
   "cell_type": "code",
   "execution_count": 76,
   "id": "21ca6a59",
   "metadata": {},
   "outputs": [],
   "source": [
    "imputed_X_valid=pd.DataFrame(Imputer.fit_transform(X_valid))\n",
    "imputed_X_train.columns=X_train.columns\n",
    "imputed_X_valid.columns=X_valid.columns"
   ]
  },
  {
   "cell_type": "code",
   "execution_count": 78,
   "id": "d008acc3",
   "metadata": {},
   "outputs": [
    {
     "name": "stdout",
     "output_type": "stream",
     "text": [
      "MAE from Dropping Table is: 170754.17124947402\n"
     ]
    }
   ],
   "source": [
    "print(\"MAE from Dropping Table is:\",select_mae(imputed_X_train, imputed_X_valid, y_train, y_valid))"
   ]
  },
  {
   "cell_type": "markdown",
   "id": "344d0698",
   "metadata": {},
   "source": [
    "### approach 3 using extension imputation"
   ]
  },
  {
   "cell_type": "code",
   "execution_count": 79,
   "id": "e4f06b0a",
   "metadata": {},
   "outputs": [],
   "source": [
    "X_train_plus=X_train.copy()\n",
    "X_valid_plus=X_valid.copy()"
   ]
  },
  {
   "cell_type": "markdown",
   "id": "5883d8ec",
   "metadata": {},
   "source": [
    "##### making new column by indicating the imputed column"
   ]
  },
  {
   "cell_type": "code",
   "execution_count": 83,
   "id": "7dceb959",
   "metadata": {},
   "outputs": [
    {
     "data": {
      "text/plain": [
       "['Car', 'BuildingArea', 'YearBuilt']"
      ]
     },
     "execution_count": 83,
     "metadata": {},
     "output_type": "execute_result"
    }
   ],
   "source": [
    "cols_missing_data"
   ]
  },
  {
   "cell_type": "code",
   "execution_count": 88,
   "id": "c2a76c13",
   "metadata": {},
   "outputs": [],
   "source": [
    "for col in cols_missing_data:\n",
    "     X_train_plus[col + '_was_missing'] = X_train_plus[col].isnull()\n",
    "     X_valid_plus[col + '_was_missing'] = X_valid_plus[col].isnull()\n",
    "    "
   ]
  },
  {
   "cell_type": "code",
   "execution_count": 93,
   "id": "5546ae35",
   "metadata": {},
   "outputs": [],
   "source": [
    "myimputer=SimpleImputer()\n",
    "imputed_x_train_plus=pd.DataFrame(myimputer.fit_transform(X_train_plus))\n",
    "imputed_x_valid_plus=pd.DataFrame(myimputer.fit_transform(X_valid_plus))\n",
    "imputed_x_train_plus.columns=X_train_plus.columns\n",
    "imputed_x_valid_plus.columns=X_valid_plus.columns"
   ]
  },
  {
   "cell_type": "code",
   "execution_count": 94,
   "id": "e160d8c2",
   "metadata": {},
   "outputs": [
    {
     "name": "stdout",
     "output_type": "stream",
     "text": [
      "MAE from extension imputation: 169691.71225182342\n"
     ]
    }
   ],
   "source": [
    "print(\"MAE from extension imputation:\",select_mae(imputed_x_train_plus, imputed_x_valid_plus, y_train, y_valid))"
   ]
  },
  {
   "cell_type": "code",
   "execution_count": null,
   "id": "71df06e0",
   "metadata": {},
   "outputs": [],
   "source": []
  }
 ],
 "metadata": {
  "kernelspec": {
   "display_name": "Python 3 (ipykernel)",
   "language": "python",
   "name": "python3"
  },
  "language_info": {
   "codemirror_mode": {
    "name": "ipython",
    "version": 3
   },
   "file_extension": ".py",
   "mimetype": "text/x-python",
   "name": "python",
   "nbconvert_exporter": "python",
   "pygments_lexer": "ipython3",
   "version": "3.10.8"
  }
 },
 "nbformat": 4,
 "nbformat_minor": 5
}
