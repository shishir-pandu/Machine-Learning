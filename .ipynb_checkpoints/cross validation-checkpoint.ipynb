{
 "cells": [
  {
   "cell_type": "code",
   "execution_count": 25,
   "id": "78aec552",
   "metadata": {},
   "outputs": [
    {
     "data": {
      "text/plain": [
       "0        2\n",
       "1        2\n",
       "2        3\n",
       "3        3\n",
       "4        4\n",
       "        ..\n",
       "13575    4\n",
       "13576    3\n",
       "13577    3\n",
       "13578    4\n",
       "13579    4\n",
       "Name: Rooms, Length: 13580, dtype: int64"
      ]
     },
     "execution_count": 25,
     "metadata": {},
     "output_type": "execute_result"
    }
   ],
   "source": [
    "import pandas as pd\n",
    "from sklearn.model_selection import train_test_split\n",
    "path=\"melb_data.csv\"\n",
    "data=pd.read_csv(path)\n",
    "y=data.Price\n",
    "X=data.drop(['Price'],axis=1)\n",
    "data['Rooms']"
   ]
  },
  {
   "cell_type": "code",
   "execution_count": 16,
   "id": "d1b32996",
   "metadata": {},
   "outputs": [],
   "source": [
    "X_train,X_valid,y_train,y_valid=train_test_split(X,y,train_size=0.7, test_size=0.3)"
   ]
  },
  {
   "cell_type": "code",
   "execution_count": 28,
   "id": "9cfb165f",
   "metadata": {},
   "outputs": [],
   "source": [
    "num_cols=[col for col in X_train\n",
    "         if X_train[col].dtype in ['int64','float']]\n",
    "cat_cols=[col for col in X_train\n",
    "         if X_train[col].dtype=='object']\n",
    "my_cols=num_cols + cat_cols\n",
    "X_train=X_train[my_cols].copy()\n",
    "X_valid=X_valid[my_cols].copy()"
   ]
  },
  {
   "cell_type": "code",
   "execution_count": 37,
   "id": "a9971b4d",
   "metadata": {},
   "outputs": [],
   "source": [
    "from sklearn.impute import SimpleImputer\n",
    "from sklearn.pipeline import Pipeline\n",
    "from sklearn.preprocessing import OneHotEncoder\n",
    "from sklearn.compose import ColumnTransformer\n",
    "num_trans=SimpleImputer(strategy='constant')\n",
    "cat_trans=Pipeline(steps=[\n",
    "    ('impute',SimpleImputer()),\n",
    "    ('OneHot',OneHotEncoder(handle_unknown='ignore'))\n",
    "])\n",
    "preprocessor=ColumnTransformer(transformers=[\n",
    "    ('num',num_trans,num_cols),\n",
    "    ('cat',cat_trans,cat_cols)\n",
    "])"
   ]
  },
  {
   "cell_type": "raw",
   "id": "fb7f09ad",
   "metadata": {},
   "source": [
    "from sklearn.ensemble import RandomTreeRegressor\n",
    "model=RandomTreeRegressor(random_state=0)\n",
    "my_pipeline=Pipeline(steps=[\n",
    "    ('preprocessor',preprocessor),\n",
    "    ('model',model)\n",
    "])\n",
    "my_pipeline.fit(X_train,y_train)"
   ]
  },
  {
   "cell_type": "code",
   "execution_count": null,
   "id": "b168c2fa",
   "metadata": {},
   "outputs": [],
   "source": []
  }
 ],
 "metadata": {
  "kernelspec": {
   "display_name": "Python 3 (ipykernel)",
   "language": "python",
   "name": "python3"
  },
  "language_info": {
   "codemirror_mode": {
    "name": "ipython",
    "version": 3
   },
   "file_extension": ".py",
   "mimetype": "text/x-python",
   "name": "python",
   "nbconvert_exporter": "python",
   "pygments_lexer": "ipython3",
   "version": "3.10.8"
  }
 },
 "nbformat": 4,
 "nbformat_minor": 5
}
