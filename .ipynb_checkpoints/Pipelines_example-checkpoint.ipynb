{
 "cells": [
  {
   "cell_type": "markdown",
   "id": "0dbc7aee",
   "metadata": {},
   "source": [
    "##  This is an example of How Actually the Pipelines work"
   ]
  },
  {
   "cell_type": "markdown",
   "id": "4e9e6037",
   "metadata": {},
   "source": [
    "#### 1.Loading the csv file"
   ]
  },
  {
   "cell_type": "code",
   "execution_count": 1,
   "id": "179fe070",
   "metadata": {},
   "outputs": [],
   "source": [
    "import pandas as pd\n",
    "from sklearn.model_selection import train_test_split\n",
    "path=\"melb_data.csv\"\n",
    "data=pd.read_csv(path)\n",
    "data.head()\n",
    "y=data.Price\n",
    "X=data.drop(['Price'], axis=1)\n",
    "#splitting the data in training AND  validate\n",
    "X_train,X_valid,y_train,y_valid=train_test_split(X,y, train_size=0.7, test_size=0.3)\n",
    "num_cols=[\n",
    "    col for col in X_train\n",
    "    if X_train[col].dtype in ['int','float']\n",
    "]\n",
    "cat_cols=[\n",
    "    col for col in X_train\n",
    "    if X_train[col].dtype ==\"object\"\n",
    "]\n",
    "my_cols=num_cols + cat_cols\n",
    "X_train=X_train[my_cols].copy()\n",
    "X_valid=X_valid[my_cols].copy()\n"
   ]
  },
  {
   "cell_type": "code",
   "execution_count": 2,
   "id": "c2ccfb74",
   "metadata": {},
   "outputs": [],
   "source": [
    "#necesery import for preprocessing\n",
    "from sklearn.impute import SimpleImputer\n",
    "from sklearn.metrics import mean_absolute_error\n",
    "from sklearn.pipeline import Pipeline\n",
    "from sklearn.preprocessing import OneHotEncoder"
   ]
  },
  {
   "cell_type": "code",
   "execution_count": 3,
   "id": "1ec4ab44",
   "metadata": {},
   "outputs": [],
   "source": [
    "#preprocessig for numerical data\n",
    "num_transformer=SimpleImputer(strategy='constant')"
   ]
  },
  {
   "cell_type": "code",
   "execution_count": 4,
   "id": "d418e044",
   "metadata": {},
   "outputs": [],
   "source": [
    "#preprocessing for categorical data\n",
    "from sklearn.compose import ColumnTransformer\n",
    "cat_transformer=Pipeline(steps=[\n",
    "    ('imputer',SimpleImputer(strategy='most_frequent')),\n",
    "    ('onehotw',OneHotEncoder(handle_unknown='ignore'))\n",
    "])\n",
    "#bundle processing for both numerical & categorical data\n",
    "preprocessor=ColumnTransformer(transformers=[\n",
    "    ('num', num_transformer, num_cols),\n",
    "    ('cat', cat_transformer, cat_cols)\n",
    "])"
   ]
  },
  {
   "cell_type": "code",
   "execution_count": 5,
   "id": "6126b0ad",
   "metadata": {},
   "outputs": [],
   "source": [
    "#Defining the model\n",
    "from sklearn.ensemble import RandomForestRegressor\n",
    "model=RandomForestRegressor(n_estimators=100, random_state=0)"
   ]
  },
  {
   "cell_type": "code",
   "execution_count": 6,
   "id": "2354cc6e",
   "metadata": {},
   "outputs": [],
   "source": [
    "my_pipeline=Pipeline(steps=[\n",
    "    ('preprocessor', preprocessor),\n",
    "    ('model', model)\n",
    "])"
   ]
  },
  {
   "cell_type": "code",
   "execution_count": null,
   "id": "720f34f8",
   "metadata": {
    "scrolled": false
   },
   "outputs": [],
   "source": [
    "my_pipeline.fit(X_train, y_train)"
   ]
  },
  {
   "cell_type": "code",
   "execution_count": null,
   "id": "e33dbade",
   "metadata": {},
   "outputs": [],
   "source": [
    "preds=my_pipeline.predict(X_valid)"
   ]
  },
  {
   "cell_type": "code",
   "execution_count": null,
   "id": "2bc146b9",
   "metadata": {},
   "outputs": [],
   "source": [
    "print(\"MAE from the pipelines is\")"
   ]
  },
  {
   "cell_type": "code",
   "execution_count": null,
   "id": "5aec9640",
   "metadata": {},
   "outputs": [],
   "source": [
    "print(\"hello\")"
   ]
  },
  {
   "cell_type": "code",
   "execution_count": null,
   "id": "2d7f3a0b",
   "metadata": {},
   "outputs": [],
   "source": []
  }
 ],
 "metadata": {
  "kernelspec": {
   "display_name": "Python 3 (ipykernel)",
   "language": "python",
   "name": "python3"
  },
  "language_info": {
   "codemirror_mode": {
    "name": "ipython",
    "version": 3
   },
   "file_extension": ".py",
   "mimetype": "text/x-python",
   "name": "python",
   "nbconvert_exporter": "python",
   "pygments_lexer": "ipython3",
   "version": "3.10.8"
  }
 },
 "nbformat": 4,
 "nbformat_minor": 5
}
